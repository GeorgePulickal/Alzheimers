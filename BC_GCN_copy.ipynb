{
 "cells": [
  {
   "cell_type": "code",
   "execution_count": 123,
   "outputs": [],
   "source": [
    "import models_BCGCN as model\n",
    "import functions"
   ],
   "metadata": {
    "collapsed": false
   }
  },
  {
   "cell_type": "code",
   "execution_count": 124,
   "metadata": {
    "collapsed": true
   },
   "outputs": [],
   "source": [
    "import torch\n",
    "import numpy as np\n",
    "import torch.optim as optim\n",
    "from sklearn.model_selection import StratifiedKFold\n",
    "from sklearn.model_selection import train_test_split\n",
    "from torch.utils.data import DataLoader\n",
    "import matplotlib.pyplot as plt\n",
    "import torch.nn as nn"
   ]
  },
  {
   "cell_type": "code",
   "execution_count": 125,
   "outputs": [],
   "source": [
    "class GPC(nn.Module):\n",
    "\tdef __init__(self, in_dim, out_dim):\n",
    "\t\tsuper(GPC, self).__init__()\n",
    "\t\tself.out_dim = out_dim\n",
    "\t\tself.conv = nn.Conv2d(in_dim, out_dim, (1, node))\n",
    "\t\tnn.init.normal_(self.conv.weight, std=math.sqrt(2/(node*in_dim+node*out_dim)))\n",
    "\n",
    "\tdef forward(self, x):\n",
    "\t\tbatchsize = x.shape[0]\n",
    "\n",
    "\t\tx_c = self.conv(x)\n",
    "\t\tx_C = x_c.expand(batchsize, self.out_dim, node, node)\n",
    "\t\tx_R = x_C.permute(0,1,3,2)\n",
    "\t\tx = x_C+x_R\n",
    "\n",
    "\t\treturn x\n",
    "\n",
    "class EP(nn.Module):\n",
    "\n",
    "\tdef __init__(self, in_dim, out_dim):\n",
    "\t\tsuper(EP, self).__init__()\n",
    "\t\tself.conv = nn.Conv2d(in_dim, out_dim, (1, node))\n",
    "\t\tnn.init.normal_(self.conv.weight, std=math.sqrt(4/(node*in_dim+out_dim)))\n",
    "\n",
    "\n",
    "\tdef forward(self, x):\n",
    "\n",
    "\t\tx = self.conv(x)\n",
    "\n",
    "\t\treturn x\n",
    "\n",
    "class NP(nn.Module):\n",
    "\n",
    "\tdef __init__(self, in_dim, out_dim):\n",
    "\t\tsuper(NP, self).__init__()\n",
    "\t\tself.conv = nn.Conv2d(in_dim, out_dim, (node, 1))\n",
    "\t\tnn.init.normal_(self.conv.weight, std=math.sqrt(4/(node*in_dim+out_dim)))\n",
    "\n",
    "\tdef forward(self, x):\n",
    "\n",
    "\t\tx = self.conv(x)\n",
    "\n",
    "\t\treturn x\n",
    "\n",
    "class BC_GCN(nn.Module):\n",
    "\tdef __init__(self, GPC_dim_1, GPC_dim_2, GPC_dim_3, EP_dim, NP_dim):\n",
    "\t\tsuper(BC_GCN, self).__init__()\n",
    "\n",
    "\t\tprint('Current model : BC_GCN')\n",
    "\n",
    "\t\tself.GPC_1 = GPC(1, GPC_dim_1)\n",
    "\t\tself.GPC_2 = GPC(GPC_dim_1, GPC_dim_2)\n",
    "\t\tself.GPC_3 = GPC(GPC_dim_2, GPC_dim_3)\n",
    "\n",
    "\t\tself.EP = EP(GPC_dim_3, EP_dim)\n",
    "\n",
    "\t\tself.NP = NP(EP_dim, NP_dim)\n",
    "\n",
    "\t\tself.fc = nn.Linear(NP_dim, n_classes)\n",
    "\t\tnn.init.constant_(self.fc.bias, 0)\n",
    "\n",
    "\tdef forward(self, x):\n",
    "\n",
    "\t\tx = self.GPC_1(x)\n",
    "\t\tx = F.relu(x)\n",
    "\n",
    "\t\tx = self.GPC_2(x)\n",
    "\t\tx = F.relu(x)\n",
    "\n",
    "\t\tx = self.GPC_3(x)\n",
    "\t\tx = F.relu(x)\n",
    "\n",
    "\t\tx = self.EP(x)\n",
    "\t\tx = F.relu(x)\n",
    "\n",
    "\t\tx = self.NP(x)\n",
    "\t\tx = F.relu(x)\n",
    "\n",
    "\t\tx = x.view(x.size(0),-1)\n",
    "\n",
    "\t\tx = self.fc(x)\n",
    "\n",
    "\n",
    "\t\treturn x\n",
    "\n",
    "def weights_init(m):\n",
    "\tif isinstance(m, nn.Conv2d):\n",
    "\t\t#nn.init.kaiming_normal_(m.weight, mode='fan_out')\n",
    "\t\t#nn.init.xavier_uniform_(m.weight)\n",
    "\t\tnn.init.constant_(m.bias, 0)\n",
    "\telif isinstance(m, nn.Linear):\n",
    "\t\tnn.init.xavier_uniform_(m.weight)\n",
    "\t\t#nn.init.constant_(m.bias, 0)"
   ],
   "metadata": {
    "collapsed": false
   }
  },
  {
   "cell_type": "code",
   "execution_count": 126,
   "outputs": [],
   "source": [
    "#GLOBAL VARIABLES\n",
    "node = 116\n",
    "n_classes = 3\n",
    "g_labels = torch.from_numpy(np.loadtxt('ADNI_gsr_172/labels.csv', delimiter=','))\n",
    "g_labels = g_labels.type(torch.LongTensor)"
   ],
   "metadata": {
    "collapsed": false
   }
  },
  {
   "cell_type": "code",
   "execution_count": 127,
   "outputs": [],
   "source": [
    "full_train_data = functions.load_pcorr()\n",
    "idx = functions.filter_SMC_patient_info()\n",
    "data = [full_train_data[i] for i in idx]\n",
    "data = np.array(data)\n",
    "data = torch.from_numpy(data)\n",
    "data = data.type(torch.float32)\n",
    "data = torch.reshape(data ,(172 , 1 ,116 , 116))"
   ],
   "metadata": {
    "collapsed": false
   }
  },
  {
   "cell_type": "code",
   "execution_count": 128,
   "outputs": [],
   "source": [
    "kf = StratifiedKFold(n_splits=5, shuffle=False)\n",
    "for train_val_idx, test_idx in kf.split(data, g_labels):\n",
    "\tX_train_val = data[train_val_idx]\n",
    "\tX_test      = data[test_idx]\n",
    "\tY_train_val = g_labels[train_val_idx]\n",
    "\tY_test      = g_labels[test_idx]\n",
    "\n",
    "\tX_train, X_valid, Y_train, Y_valid = train_test_split(X_train_val, Y_train_val , test_size=0.125,\n",
    "                                                    random_state=42, stratify=Y_train_val)"
   ],
   "metadata": {
    "collapsed": false
   }
  },
  {
   "cell_type": "code",
   "execution_count": 129,
   "outputs": [],
   "source": [
    "train_data = []\n",
    "for i in range(len(X_train)):\n",
    "\ttrain_data.append([X_train[i] , Y_train[i]])\n",
    "\n",
    "valid_data = []\n",
    "for i in range(len(X_valid)):\n",
    "\tvalid_data.append([X_valid[i] , Y_valid[i]])\n",
    "\n",
    "test_data = []\n",
    "for i in range(len(X_test)):\n",
    "\ttest_data.append([X_test[i] , Y_test[i]])"
   ],
   "metadata": {
    "collapsed": false
   }
  },
  {
   "cell_type": "code",
   "execution_count": 130,
   "outputs": [],
   "source": [
    "train_loader = DataLoader(train_data, batch_size=5)\n",
    "valid_loader = DataLoader(valid_data, batch_size=len(valid_data))\n",
    "test_loader = DataLoader(test_data, batch_size=len(test_data))"
   ],
   "metadata": {
    "collapsed": false
   }
  },
  {
   "cell_type": "code",
   "execution_count": 161,
   "outputs": [
    {
     "data": {
      "text/plain": "tensor(33)"
     },
     "execution_count": 161,
     "metadata": {},
     "output_type": "execute_result"
    }
   ],
   "source": [
    "torch.count_nonzero(Y_train == 0)"
   ],
   "metadata": {
    "collapsed": false
   }
  },
  {
   "cell_type": "code",
   "execution_count": 171,
   "outputs": [
    {
     "name": "stdout",
     "output_type": "stream",
     "text": [
      "tensor([3.6364, 1.8462, 5.4545])\n"
     ]
    }
   ],
   "source": [
    "#apply weights to the crossentropy loss using training data labels\n",
    "lab = [0 , 1 , 2]\n",
    "weight = []\n",
    "for i in lab:\n",
    "\tweight.append(np.count_nonzero(Y_train == i) / len(Y_train))\n",
    "weight = torch.FloatTensor(weight)\n",
    "class_weights = 1 / weight\n",
    "print(torch.FloatTensor(class_weights))"
   ],
   "metadata": {
    "collapsed": false
   }
  },
  {
   "cell_type": "code",
   "execution_count": 172,
   "outputs": [
    {
     "name": "stdout",
     "output_type": "stream",
     "text": [
      "Current model : BC_GCN\n",
      "tensor([1, 1, 1, 1, 1, 1, 1, 1, 1, 1, 1, 1, 1, 1, 1, 1, 1, 1])\n",
      "Epoche : 0    Val Acc:0.5555555555555556 \n",
      "tensor([1, 0, 1, 1, 2, 1, 2, 1, 0, 1, 1, 1, 1, 1, 1, 1, 1, 1])\n",
      "Epoche : 1    Val Acc:0.4444444444444444 \n",
      "tensor([1, 1, 1, 1, 1, 1, 1, 1, 1, 1, 1, 1, 1, 1, 1, 1, 1, 1])\n",
      "Epoche : 2    Val Acc:0.5555555555555556 \n",
      "tensor([1, 1, 2, 1, 1, 1, 1, 2, 1, 1, 1, 2, 1, 1, 1, 1, 1, 1])\n",
      "Epoche : 3    Val Acc:0.5555555555555556 \n",
      "tensor([1, 0, 2, 2, 1, 1, 2, 2, 1, 1, 1, 2, 1, 2, 1, 2, 2, 1])\n",
      "Epoche : 4    Val Acc:0.5 \n",
      "tensor([1, 0, 2, 2, 0, 1, 2, 2, 2, 1, 1, 2, 1, 2, 0, 2, 2, 1])\n",
      "Epoche : 5    Val Acc:0.3333333333333333 \n",
      "tensor([1, 0, 1, 1, 0, 0, 0, 1, 1, 0, 1, 1, 1, 1, 0, 1, 0, 1])\n",
      "Epoche : 6    Val Acc:0.4444444444444444 \n",
      "tensor([1, 0, 1, 1, 0, 1, 1, 1, 1, 1, 1, 1, 1, 1, 0, 1, 0, 1])\n",
      "Epoche : 7    Val Acc:0.5555555555555556 \n",
      "tensor([1, 1, 2, 2, 2, 2, 1, 2, 1, 2, 2, 2, 1, 2, 2, 2, 2, 1])\n",
      "Epoche : 8    Val Acc:0.3333333333333333 \n",
      "tensor([2, 0, 2, 2, 0, 2, 2, 2, 1, 2, 2, 2, 2, 2, 2, 2, 2, 2])\n",
      "Epoche : 9    Val Acc:0.2777777777777778 \n",
      "tensor([2, 0, 2, 1, 0, 0, 0, 1, 1, 1, 1, 2, 1, 0, 0, 0, 0, 1])\n",
      "Epoche : 10    Val Acc:0.4444444444444444 \n",
      "tensor([1, 0, 1, 1, 0, 0, 1, 1, 1, 1, 1, 0, 1, 0, 1, 1, 0, 1])\n",
      "Epoche : 11    Val Acc:0.6111111111111112 \n",
      "tensor([1, 0, 0, 0, 0, 0, 0, 0, 1, 0, 2, 0, 0, 0, 0, 0, 0, 0])\n",
      "Epoche : 12    Val Acc:0.3888888888888889 \n",
      "tensor([1, 0, 1, 1, 0, 0, 1, 1, 1, 1, 1, 1, 1, 1, 0, 1, 0, 1])\n",
      "Epoche : 13    Val Acc:0.5 \n",
      "tensor([1, 0, 2, 1, 0, 0, 1, 1, 1, 1, 1, 2, 1, 0, 0, 1, 0, 1])\n",
      "Epoche : 14    Val Acc:0.6111111111111112 \n",
      "tensor([1, 0, 2, 2, 0, 0, 1, 1, 1, 1, 1, 2, 1, 0, 0, 1, 0, 1])\n",
      "Epoche : 15    Val Acc:0.6111111111111112 \n",
      "tensor([1, 0, 2, 1, 0, 0, 0, 1, 1, 0, 2, 2, 1, 0, 0, 1, 0, 1])\n",
      "Epoche : 16    Val Acc:0.5 \n",
      "tensor([1, 0, 2, 1, 0, 0, 1, 1, 1, 0, 2, 2, 1, 0, 0, 1, 0, 1])\n",
      "Epoche : 17    Val Acc:0.5555555555555556 \n",
      "tensor([1, 0, 1, 1, 1, 1, 1, 1, 1, 1, 2, 2, 1, 0, 0, 1, 0, 1])\n",
      "Epoche : 18    Val Acc:0.6666666666666666 \n",
      "tensor([2, 0, 1, 1, 1, 1, 1, 1, 1, 1, 2, 2, 1, 1, 1, 1, 0, 1])\n",
      "Epoche : 19    Val Acc:0.6111111111111112 \n",
      "tensor([2, 0, 1, 1, 1, 1, 1, 1, 1, 1, 2, 2, 1, 2, 1, 1, 0, 1])\n",
      "Epoche : 20    Val Acc:0.6111111111111112 \n",
      "tensor([2, 0, 2, 2, 2, 1, 1, 1, 1, 1, 2, 2, 1, 2, 2, 1, 0, 1])\n",
      "Epoche : 21    Val Acc:0.5 \n",
      "tensor([1, 1, 1, 2, 1, 1, 1, 1, 1, 1, 2, 2, 1, 0, 1, 1, 1, 1])\n",
      "Epoche : 22    Val Acc:0.6111111111111112 \n",
      "tensor([2, 1, 2, 2, 2, 2, 1, 1, 2, 1, 2, 2, 1, 2, 1, 1, 1, 1])\n",
      "Epoche : 23    Val Acc:0.3333333333333333 \n",
      "tensor([2, 1, 1, 2, 1, 1, 1, 1, 1, 1, 2, 2, 1, 1, 1, 1, 1, 1])\n",
      "Epoche : 24    Val Acc:0.5 \n",
      "tensor([1, 1, 1, 1, 1, 1, 1, 1, 1, 1, 1, 1, 1, 1, 1, 1, 1, 1])\n",
      "Epoche : 25    Val Acc:0.5555555555555556 \n",
      "tensor([1, 0, 1, 1, 1, 0, 1, 1, 1, 1, 1, 1, 1, 1, 0, 1, 0, 1])\n",
      "Epoche : 26    Val Acc:0.5555555555555556 \n",
      "tensor([2, 1, 1, 1, 0, 1, 1, 1, 1, 1, 2, 2, 1, 1, 1, 1, 1, 1])\n",
      "Epoche : 27    Val Acc:0.4444444444444444 \n",
      "tensor([1, 0, 1, 1, 0, 0, 1, 1, 1, 1, 2, 1, 1, 1, 0, 1, 0, 1])\n",
      "Epoche : 28    Val Acc:0.4444444444444444 \n",
      "tensor([2, 0, 1, 1, 0, 0, 1, 1, 1, 1, 2, 2, 1, 0, 0, 1, 0, 1])\n",
      "Epoche : 29    Val Acc:0.5 \n",
      "tensor([1, 0, 1, 1, 0, 0, 1, 1, 1, 1, 2, 1, 1, 1, 0, 1, 0, 1])\n",
      "Epoche : 30    Val Acc:0.4444444444444444 \n",
      "tensor([1, 0, 1, 1, 0, 0, 1, 1, 1, 1, 2, 1, 1, 1, 0, 1, 0, 1])\n",
      "Epoche : 31    Val Acc:0.4444444444444444 \n",
      "tensor([1, 0, 1, 1, 0, 0, 1, 1, 1, 1, 2, 1, 1, 1, 0, 1, 0, 1])\n",
      "Epoche : 32    Val Acc:0.4444444444444444 \n",
      "tensor([1, 1, 1, 1, 1, 1, 1, 1, 1, 1, 2, 1, 1, 1, 0, 1, 0, 1])\n",
      "Epoche : 33    Val Acc:0.5 \n",
      "tensor([1, 0, 1, 1, 0, 0, 1, 1, 1, 1, 2, 1, 1, 1, 0, 1, 0, 1])\n",
      "Epoche : 34    Val Acc:0.4444444444444444 \n",
      "tensor([1, 0, 1, 1, 0, 0, 1, 1, 1, 1, 2, 1, 1, 0, 0, 1, 0, 1])\n",
      "Epoche : 35    Val Acc:0.5 \n",
      "tensor([1, 0, 1, 1, 0, 0, 1, 1, 1, 1, 2, 1, 1, 0, 0, 1, 0, 1])\n",
      "Epoche : 36    Val Acc:0.5 \n",
      "tensor([1, 0, 1, 1, 0, 0, 1, 1, 1, 1, 2, 1, 1, 0, 0, 1, 0, 1])\n",
      "Epoche : 37    Val Acc:0.5 \n",
      "tensor([1, 0, 1, 1, 0, 0, 1, 1, 1, 1, 2, 1, 1, 0, 0, 1, 0, 1])\n",
      "Epoche : 38    Val Acc:0.5 \n",
      "tensor([1, 0, 1, 1, 0, 0, 1, 1, 1, 1, 2, 1, 1, 0, 0, 1, 0, 1])\n",
      "Epoche : 39    Val Acc:0.5 \n",
      "tensor([1, 0, 1, 1, 0, 0, 1, 1, 1, 1, 2, 1, 1, 0, 0, 1, 0, 1])\n",
      "Epoche : 40    Val Acc:0.5 \n",
      "tensor([1, 0, 1, 1, 0, 0, 1, 1, 1, 1, 2, 1, 1, 0, 0, 1, 0, 1])\n",
      "Epoche : 41    Val Acc:0.5 \n",
      "tensor([1, 0, 1, 1, 0, 0, 1, 1, 1, 1, 2, 1, 1, 0, 0, 1, 0, 1])\n",
      "Epoche : 42    Val Acc:0.5 \n",
      "tensor([1, 0, 1, 1, 0, 0, 1, 1, 1, 1, 2, 1, 1, 0, 0, 1, 0, 1])\n",
      "Epoche : 43    Val Acc:0.5 \n",
      "tensor([1, 0, 1, 1, 0, 0, 1, 1, 1, 1, 2, 1, 1, 0, 0, 1, 0, 1])\n",
      "Epoche : 44    Val Acc:0.5 \n",
      "tensor([1, 0, 1, 1, 0, 0, 1, 1, 1, 1, 2, 1, 1, 0, 0, 1, 0, 1])\n",
      "Epoche : 45    Val Acc:0.5 \n",
      "tensor([1, 0, 1, 1, 0, 0, 1, 1, 1, 1, 2, 1, 1, 0, 0, 1, 0, 1])\n",
      "Epoche : 46    Val Acc:0.5 \n",
      "tensor([1, 0, 1, 1, 0, 0, 1, 1, 1, 1, 2, 1, 1, 0, 0, 1, 0, 1])\n",
      "Epoche : 47    Val Acc:0.5 \n",
      "tensor([1, 0, 1, 1, 0, 0, 1, 1, 1, 1, 2, 1, 1, 0, 0, 1, 0, 1])\n",
      "Epoche : 48    Val Acc:0.5 \n",
      "tensor([1, 0, 1, 1, 0, 0, 1, 1, 1, 1, 2, 1, 1, 0, 0, 1, 0, 1])\n",
      "Epoche : 49    Val Acc:0.5 \n",
      "Test Acc:0.4411764705882353 \n"
     ]
    }
   ],
   "source": [
    "net = BC_GCN(16, 16, 16, 64, 256)\n",
    "net.apply(weights_init)\n",
    "optimizer = optim.SGD(net.parameters(), lr=0.0003, momentum=0.9, weight_decay=0)\n",
    "#optimizer = torch.optim.Adam(net.parameters(), lr=0.005)\n",
    "criterion = torch.nn.CrossEntropyLoss(weight=class_weights)\n",
    "\n",
    "#TODO: introduce ADAM optimizer\n",
    "loss_list = []\n",
    "val_acc_list = []\n",
    "for i in range(50):\n",
    "\tnet.train()\n",
    "\truntime_loss = 0\n",
    "\tfor data in train_loader:\n",
    "\t\tinputs = data[0]\n",
    "\t\tlabels = data[1]\n",
    "\t\toptimizer.zero_grad()\n",
    "\t\toutputs = net(inputs)\n",
    "\t\tloss = criterion(outputs, labels)\n",
    "\t\truntime_loss += loss.item()\n",
    "\t\tloss.backward()\n",
    "\t\toptimizer.step()\n",
    "\tloss_list.append(runtime_loss / len(train_loader))\n",
    "\n",
    "\tnet.eval()\n",
    "\tcorrect = 0\n",
    "\tfor data in valid_loader:\n",
    "\t\tinputs = data[0]\n",
    "\t\tlabels = data[1]\n",
    "\t\toutputs = net(inputs)\n",
    "\t\tpred = outputs.argmax(dim=1)\n",
    "\t\tprint(pred)\n",
    "\t\tcorrect += int((pred == labels).sum())\n",
    "\tval_acc = correct / len(valid_loader.dataset)\n",
    "\tval_acc_list.append(val_acc)\n",
    "\tprint(f'Epoche : {i}    Val Acc:{val_acc} ')\n",
    "\n",
    "net.eval()\n",
    "correct = 0\n",
    "for data in test_data:\n",
    "\tinputs = data[0]\n",
    "\tlabels = data[1]\n",
    "\toutputs = net(inputs)\n",
    "\tpred = outputs.argmax(dim=1)\n",
    "\tcorrect += int((pred == labels).sum())\n",
    "test_acc = correct / len(test_loader.dataset)\n",
    "print(f'Test Acc:{test_acc} ')\n",
    "\n"
   ],
   "metadata": {
    "collapsed": false
   }
  },
  {
   "cell_type": "code",
   "execution_count": 112,
   "outputs": [
    {
     "name": "stdout",
     "output_type": "stream",
     "text": [
      "[1.0945609932144482, 0.9929234261314074, 0.8929274367789427, 0.7467238083481789, 0.5644708812857667, 0.35869535120824975, 0.3309679611896475, 0.5139413361127178, 0.7185958845851322, 0.6954933512024581, 0.8013617619872093, 0.601044618524611, 0.3242087932303548, 0.3631753420922905, 0.43398195739185513, 0.3982108210523923, 0.40228714685266215, 0.4238267722709376, 0.3837545118294656, 0.20254710572771728, 0.2805750545036669, 0.3597386048641056, 0.48720961762592196, 0.32714533095713705, 0.4371731666033156, 0.6725490142901739, 0.5568570159375668, 0.3093406152911484, 0.2981642459635623, 0.38963283761889517, 0.19464447523932904, 0.10161547648385749, 0.24520110008935112, 0.16268057920994275, 0.08930336973935482, 0.03688708397870263, 0.00561400852211591, 0.002349377860355162, 0.0015381200394889067, 0.0011516709206868352, 0.0009164549187516968, 0.0007568835765141557, 0.0006413579336215965, 0.0005540517876549226, 0.00048629543478758325, 0.00043206596728850855, 0.00038776196570703786, 0.00035110901588571625, 0.00032039485389153316, 0.00029427153155362856]\n"
     ]
    },
    {
     "data": {
      "text/plain": "<Figure size 640x480 with 1 Axes>",
      "image/png": "[encoded data removed]"
     },
     "metadata": {},
     "output_type": "display_data"
    }
   ],
   "source": [
    "print(loss_list)\n",
    "plt.plot(loss_list)\n",
    "plt.show()"
   ],
   "metadata": {
    "collapsed": false
   }
  },
  {
   "cell_type": "code",
   "execution_count": 105,
   "outputs": [
    {
     "name": "stdout",
     "output_type": "stream",
     "text": [
      "24\n"
     ]
    }
   ],
   "source": [
    "#todo: add weights\n",
    "#todo: include dropout"
   ],
   "metadata": {
    "collapsed": false
   }
  },
  {
   "cell_type": "code",
   "execution_count": null,
   "outputs": [],
   "source": [],
   "metadata": {
    "collapsed": false
   }
  }
 ],
 "metadata": {
  "kernelspec": {
   "display_name": "Python 3",
   "language": "python",
   "name": "python3"
  },
  "language_info": {
   "codemirror_mode": {
    "name": "ipython",
    "version": 2
   },
   "file_extension": ".py",
   "mimetype": "text/x-python",
   "name": "python",
   "nbconvert_exporter": "python",
   "pygments_lexer": "ipython2",
   "version": "2.7.6"
  }
 },
 "nbformat": 4,
 "nbformat_minor": 0
}
