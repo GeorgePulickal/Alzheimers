{
 "cells": [
  {
   "cell_type": "code",
   "execution_count": 59,
   "metadata": {
    "collapsed": true
   },
   "outputs": [],
   "source": [
    "import pandas as pd\n",
    "import os\n",
    "from scipy.cluster.hierarchy import linkage, dendrogram, fcluster\n",
    "from scipy.spatial.distance import squareform\n",
    "import numpy as np\n",
    "import matplotlib.pyplot as plt\n",
    "from nilearn import datasets"
   ]
  },
  {
   "cell_type": "code",
   "execution_count": 60,
   "outputs": [],
   "source": [
    "def time_series_loader(root):\n",
    "    ts_list = sorted(os.listdir(root))\n",
    "    ts_path_list = []\n",
    "    for i in range(0, len(ts_list)):\n",
    "            ts_path_list.append(os.path.join(root, ts_list[i]))\n",
    "    return ts_path_list\n",
    "\n",
    "def atlas_labels():\n",
    "    atlas = datasets.fetch_atlas_aal()\n",
    "    labels = atlas.labels\n",
    "    return labels\n",
    "\n",
    "def save_hypergraph(hypergraph,directory,method,threshold,id):\n",
    "    dir = f'{directory}/{method}/thresh_{threshold}'\n",
    "    if not os.path.exists(dir):\n",
    "        os.makedirs(dir)\n",
    "    np.savetxt(f'{dir}/{id}_{method}_{threshold}.csv', hypergraph, delimiter=',')\n",
    "    return\n"
   ],
   "metadata": {
    "collapsed": false
   }
  },
  {
   "cell_type": "code",
   "execution_count": 61,
   "outputs": [],
   "source": [
    "labels = atlas_labels()\n",
    "nrois = len(labels)\n",
    "time_series_list = time_series_loader('ADNI_gsr/hypergraphs/fourier')\n",
    "threshold = 0.6\n",
    "\n",
    "\n",
    "for i in range(len(time_series_list)):\n",
    "    #id = time_series_list[i][-14:-4]\n",
    "    id = time_series_list[i][-22:-12]\n",
    "    time_series = np.loadtxt(time_series_list[i], delimiter=',')\n",
    "    df = pd.DataFrame(time_series, columns=labels)\n",
    "    corr = df.corr().values\n",
    "    dissimilarity = 1 - abs(corr)\n",
    "    dissimilarity[np.isnan(dissimilarity)] = 0\n",
    "    Z = linkage(squareform(dissimilarity), 'complete')\n",
    "    cluster_idx = fcluster(Z, threshold, criterion='distance')\n",
    "    hg = np.zeros((nrois,nrois))\n",
    "    for j in range(nrois):\n",
    "        for k in range(nrois):\n",
    "            if cluster_idx[j] == cluster_idx[k]:\n",
    "                hg[j , k] = 1\n",
    "            else:\n",
    "                pass\n",
    "\n",
    "    save_hypergraph(hg,'ADNI_gsr/hypergraphs','fourier_cluster',threshold,id)"
   ],
   "metadata": {
    "collapsed": false
   }
  },
  {
   "cell_type": "code",
   "execution_count": null,
   "outputs": [],
   "source": [
    "#plt.figure(figsize=(12,5))\n",
    "#dendrogram(Z, labels=labels,orientation='top',\n",
    "               #leaf_rotation=90);"
   ],
   "metadata": {
    "collapsed": false
   }
  }
 ],
 "metadata": {
  "kernelspec": {
   "display_name": "Python 3",
   "language": "python",
   "name": "python3"
  },
  "language_info": {
   "codemirror_mode": {
    "name": "ipython",
    "version": 2
   },
   "file_extension": ".py",
   "mimetype": "text/x-python",
   "name": "python",
   "nbconvert_exporter": "python",
   "pygments_lexer": "ipython2",
   "version": "2.7.6"
  }
 },
 "nbformat": 4,
 "nbformat_minor": 0
}
