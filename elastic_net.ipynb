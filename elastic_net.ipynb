{
 "cells": [
  {
   "cell_type": "code",
   "execution_count": 2,
   "metadata": {
    "collapsed": true
   },
   "outputs": [],
   "source": [
    "import cvxpy as cp\n",
    "import numpy as np\n",
    "import matplotlib.pyplot as plt\n",
    "import os"
   ]
  },
  {
   "cell_type": "code",
   "execution_count": 4,
   "outputs": [],
   "source": [
    "def loss_fn(x_m, a_m, alpha_m):\n",
    "    return cp.norm2(x_m - cp.matmul(a_m, alpha_m))**2\n",
    "\n",
    "def regularizer_1(alpha_m):\n",
    "    return cp.norm1(alpha_m)\n",
    "\n",
    "def regularizer_2(alpha_m):\n",
    "    return cp.norm2(alpha_m)\n",
    "\n",
    "def objective_fn(x_m, a_m, alpha_m, lambd_1, lambd_2):\n",
    "    return loss_fn(x_m, a_m, alpha_m) + lambd_1 * regularizer_1(alpha_m) + lambd_2 * (regularizer_2(alpha_m) ** 2)\n",
    "\n",
    "def mse(x_m, a_m, alpha_m):\n",
    "    return (1.0 / a_m.shape[0]) * loss_fn(x_m, a_m, alpha_m).value\n",
    "\n",
    "def gen_mtrx(A , i):\n",
    "    dims = A.shape\n",
    "    A_m = np.copy(A)\n",
    "    X_m = np.copy(A[: , i])\n",
    "    zeros = np.zeros(dims[0])\n",
    "    A_m[: , i] = zeros\n",
    "    return X_m , A_m\n",
    "\n",
    "def couple_coeff(X_m,A_m,lambd_1,lambd_2):\n",
    "    alpha_m = cp.Variable(A_m.shape[1])\n",
    "    problem = cp.Problem(cp.Minimize(objective_fn(X_m, A_m, alpha_m, lambd_1, lambd_2)))\n",
    "    problem.solve()\n",
    "    return alpha_m.value[np.newaxis].T\n",
    "\n",
    "def test_lambd_1(X_train, A_train, X_test, A_test):\n",
    "    alpha_m = cp.Variable(A_train.shape[1])\n",
    "    lambd_1 = cp.Parameter(nonneg=True)\n",
    "    lambd_1_values = np.logspace(-2, 3, 50)\n",
    "    problem = cp.Problem(cp.Minimize(objective_fn(X_train , A_train , alpha_m , lambd_1)))\n",
    "\n",
    "    train_errors = []\n",
    "    test_errors = []\n",
    "    alpha_values = []\n",
    "\n",
    "    for v in lambd_1_values:\n",
    "        lambd_1.value = v\n",
    "        problem.solve()\n",
    "        train_errors.append(mse(X_train, A_train, alpha_m))\n",
    "        test_errors.append(mse(X_test, A_test, alpha_m))\n",
    "        alpha_values.append(alpha_m.value)\n",
    "    return train_errors, test_errors, lambd_1_values\n",
    "\n",
    "def test_lambd_2(X_train, A_train, X_test, A_test, lambd_1):\n",
    "    alpha_m = cp.Variable(A_train.shape[1])\n",
    "    lambd_2 = cp.Parameter(nonneg=True)\n",
    "    lambd_2_values = np.logspace(-2, 3, 50)\n",
    "    problem = cp.Problem(cp.Minimize(objective_fn(X_train , A_train , alpha_m , lambd_1, lambd_2)))\n",
    "\n",
    "    train_errors = []\n",
    "    test_errors = []\n",
    "    alpha_values = []\n",
    "\n",
    "    for v in lambd_2_values:\n",
    "        lambd_2.value = v\n",
    "        problem.solve()\n",
    "        train_errors.append(mse(X_train, A_train, alpha_m))\n",
    "        test_errors.append(mse(X_test, A_test, alpha_m))\n",
    "        alpha_values.append(alpha_m.value)\n",
    "    return train_errors, test_errors, lambd_2_values\n",
    "\n",
    "def plot_train_test_errors(train_errors, test_errors, lambd_2_values):\n",
    "    plt.plot(lambd_2_values, train_errors, label=\"Train error\")\n",
    "    plt.plot(lambd_2_values, test_errors, label=\"Test error\")\n",
    "    plt.xscale(\"log\")\n",
    "    plt.legend(loc=\"upper left\")\n",
    "    plt.xlabel(r\"$\\lambda_{2}$\", fontsize=16)\n",
    "    plt.title(\"Mean Squared Error (MSE)\")\n",
    "    plt.show()\n",
    "\n",
    "def time_series_loader(root):\n",
    "    ts_list = sorted(os.listdir(root))\n",
    "    ts_path_list = []\n",
    "    for i in range(0, len(ts_list)):\n",
    "            ts_path_list.append(os.path.join(root, ts_list[i]))\n",
    "    return ts_path_list\n",
    "\n",
    "def generate_hypergraph(ts, lambd_1, lambd_2):\n",
    "    alpha_list = []\n",
    "    for i in range(ts.shape[1]):\n",
    "        X_m , A_m = gen_mtrx(ts , i)\n",
    "        alpha = couple_coeff(X_m, A_m, lambd_1 , lambd_2 )\n",
    "        alpha_list.append(alpha)\n",
    "    alpha_array = np.concatenate(alpha_list, axis=1)\n",
    "    np.fill_diagonal(alpha_array, 1)\n",
    "    assert alpha_array.shape[0] == alpha_array.shape[1]\n",
    "    return alpha_array\n",
    "\n",
    "def threshold_hypergraph(hypergraph, threshold):\n",
    "    for i in range(hypergraph.shape[0]):\n",
    "        for j in range(hypergraph.shape[1]):\n",
    "            if abs(hypergraph[i,j]) < threshold:\n",
    "                hypergraph[i , j] = 0\n",
    "            else:\n",
    "                hypergraph[i , j] = 1\n",
    "    return hypergraph\n",
    "\n",
    "def save_hypergraph(hypergraph,directory,method,threshold,lambd_1, lambd_2,id):\n",
    "    dir = f'{directory}/{method}/thresh_{threshold}_lambda_1_{lambd_1}_lambda_2_{lambd_2}'\n",
    "    if not os.path.exists(dir):\n",
    "        os.makedirs(dir)\n",
    "    np.savetxt(f'{dir}/{id}_{method}_{threshold}.csv', hypergraph, delimiter=',')\n",
    "    return\n",
    "\n",
    "def train_test_split(X_m , A_m, train_pct):\n",
    "    dims = A_m.shape\n",
    "    train_pct = train_pct\n",
    "    train_split = int(train_pct * dims[0])\n",
    "    X_train = X_m[:train_split]\n",
    "    X_test = X_m[train_split:]\n",
    "    A_train = A_m[:train_split, :]\n",
    "    A_test = A_m[train_split:, :]\n",
    "    return X_train, X_test, A_train, A_test"
   ],
   "metadata": {
    "collapsed": false
   }
  },
  {
   "cell_type": "code",
   "execution_count": 8,
   "outputs": [
    {
     "data": {
      "text/plain": "<Figure size 640x480 with 1 Axes>",
      "image/png": "[encoded data removed]"
     },
     "metadata": {},
     "output_type": "display_data"
    }
   ],
   "source": [
    "time_series_list = time_series_loader('ADNI_gsr/time_series')\n",
    "id = time_series_list[15][-14:-4]\n",
    "time_series = np.loadtxt(time_series_list[0], delimiter=',')\n",
    "minimum_error_lambda = []\n",
    "#for i in range(116):\n",
    "X_m, A_m = gen_mtrx(time_series, 78)\n",
    "X_train, X_test, A_train, A_test = train_test_split(X_m, A_m, 0.8)\n",
    "train_errors, test_errors, lambd_2_values = test_lambd_2(X_train, A_train, X_test, A_test, 1)\n",
    "#minimum_error_lambda.append(lambd_2_values[test_errors.index(min(test_errors))])\n",
    "plot_train_test_errors(train_errors, test_errors, lambd_2_values)\n",
    "#print(minimum_error_lambda)"
   ],
   "metadata": {
    "collapsed": false
   }
  },
  {
   "cell_type": "code",
   "execution_count": 12,
   "outputs": [],
   "source": [
    "lambd_1 = 1\n",
    "lambd_2 = 0.1\n",
    "threshold = 0.5\n",
    "time_series_list = time_series_loader('ADNI_gsr/time_series')\n",
    "for i in range(len(time_series_list)):\n",
    "    id = time_series_list[i][-14:-4]\n",
    "    time_series = np.loadtxt(time_series_list[i], delimiter=',')\n",
    "    hg = generate_hypergraph(time_series, lambd_1, lambd_2)\n",
    "    hg_thresh = threshold_hypergraph(hg, threshold)\n",
    "    save_hypergraph( hg_thresh , 'ADNI_gsr/hypergraphs' , 'elastic_net' ,threshold, lambd_1 , lambd_2, id)"
   ],
   "metadata": {
    "collapsed": false
   }
  },
  {
   "cell_type": "code",
   "execution_count": null,
   "outputs": [],
   "source": [],
   "metadata": {
    "collapsed": false
   }
  }
 ],
 "metadata": {
  "kernelspec": {
   "display_name": "Python 3",
   "language": "python",
   "name": "python3"
  },
  "language_info": {
   "codemirror_mode": {
    "name": "ipython",
    "version": 2
   },
   "file_extension": ".py",
   "mimetype": "text/x-python",
   "name": "python",
   "nbconvert_exporter": "python",
   "pygments_lexer": "ipython2",
   "version": "2.7.6"
  }
 },
 "nbformat": 4,
 "nbformat_minor": 0
}
